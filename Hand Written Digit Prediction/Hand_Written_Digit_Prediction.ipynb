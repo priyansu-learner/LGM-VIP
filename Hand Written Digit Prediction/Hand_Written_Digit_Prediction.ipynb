{
  "nbformat": 4,
  "nbformat_minor": 0,
  "metadata": {
    "colab": {
      "name": "Hand Written Digit Prediction.ipynb",
      "provenance": [],
      "collapsed_sections": []
    },
    "kernelspec": {
      "name": "python3",
      "display_name": "Python 3"
    },
    "language_info": {
      "name": "python"
    }
  },
  "cells": [
    {
      "cell_type": "markdown",
      "metadata": {
        "id": "y9iW59_m15K1"
      },
      "source": [
        "# **LETS GROW MORE INTERNSHIP**"
      ]
    },
    {
      "cell_type": "markdown",
      "metadata": {
        "id": "Qf4O8O6o2Bv3"
      },
      "source": [
        "# **PRIYANSU PANDA**"
      ]
    },
    {
      "cell_type": "markdown",
      "metadata": {
        "id": "KRbnvaKL2Feo"
      },
      "source": [
        "## **OBJECTIVE: DEVELOP A NEURAL NETWORK THAT CAN READ THE HAND WRITTEN DIGIT FROM MNIST.**"
      ]
    },
    {
      "cell_type": "markdown",
      "metadata": {
        "id": "fUu3QKdn2a3P"
      },
      "source": [
        "### **IMPORTING REQUIRED LIBRARIES**"
      ]
    },
    {
      "cell_type": "code",
      "metadata": {
        "id": "01fq0Hhm2DNQ"
      },
      "source": [
        "import numpy as np\n",
        "import pandas as pd\n",
        "import cv2\n",
        "import matplotlib.pyplot as plt\n",
        "import tensorflow as tf\n",
        "from tensorflow.keras.models import Sequential\n",
        "from tensorflow.keras.layers import Conv2D,Dense,Flatten,MaxPooling2D,Dropout"
      ],
      "execution_count": 2,
      "outputs": []
    },
    {
      "cell_type": "markdown",
      "metadata": {
        "id": "_6IqGu9Q3gxg"
      },
      "source": [
        "### **LOADING THE MNIST DATA**"
      ]
    },
    {
      "cell_type": "code",
      "metadata": {
        "id": "lIrMwlfs3WW6"
      },
      "source": [
        "data = tf.keras.datasets.mnist"
      ],
      "execution_count": 6,
      "outputs": []
    },
    {
      "cell_type": "code",
      "metadata": {
        "id": "6f-T80hT35MN"
      },
      "source": [
        "(x_train,y_train),(x_test,y_test) = data.load_data()"
      ],
      "execution_count": 7,
      "outputs": []
    },
    {
      "cell_type": "code",
      "metadata": {
        "colab": {
          "base_uri": "https://localhost:8080/"
        },
        "id": "WETHSkvx4Avf",
        "outputId": "f00bd9fa-6584-488f-d8f8-a246f8543442"
      },
      "source": [
        "print(\"Shape of x_train is\", x_train.shape)\n",
        "print(\"Shape of y_train is\", y_train.shape)\n",
        "print(\"Shape of x_test is\", x_test.shape)\n",
        "print(\"Shape of y_test is\", y_test.shape)"
      ],
      "execution_count": 9,
      "outputs": [
        {
          "output_type": "stream",
          "text": [
            "Shape of x_train is (60000, 28, 28)\n",
            "Shape of y_train is (60000,)\n",
            "Shape of x_test is (10000, 28, 28)\n",
            "Shape of y_test is (10000,)\n"
          ],
          "name": "stdout"
        }
      ]
    },
    {
      "cell_type": "markdown",
      "metadata": {
        "id": "sQXmxIn44wNp"
      },
      "source": [
        "### **SAMPLE DISPLAY** ###"
      ]
    },
    {
      "cell_type": "code",
      "metadata": {
        "colab": {
          "base_uri": "https://localhost:8080/",
          "height": 302
        },
        "id": "Pwf23osj4aEe",
        "outputId": "379a2c7c-0868-450a-afe6-7382d5cd338a"
      },
      "source": [
        "index = 34\n",
        "print(\"Image Number:\", y_train[index])\n",
        "plt.imshow(x_train[index],cmap=\"gray\")"
      ],
      "execution_count": 11,
      "outputs": [
        {
          "output_type": "stream",
          "text": [
            "Image Number: 0\n"
          ],
          "name": "stdout"
        },
        {
          "output_type": "execute_result",
          "data": {
            "text/plain": [
              "<matplotlib.image.AxesImage at 0x7fa6bfe24650>"
            ]
          },
          "metadata": {},
          "execution_count": 11
        },
        {
          "output_type": "display_data",
          "data": {
            "image/png": "[encoded data removed]",
            "text/plain": [
              "<Figure size 432x288 with 1 Axes>"
            ]
          },
          "metadata": {
            "needs_background": "light"
          }
        }
      ]
    },
    {
      "cell_type": "markdown",
      "metadata": {
        "id": "HKLBL-fD593i"
      },
      "source": [
        "### **RESHAPING AND SCALING OF DATA** ###"
      ]
    },
    {
      "cell_type": "code",
      "metadata": {
        "colab": {
          "base_uri": "https://localhost:8080/"
        },
        "id": "L9eUVfKa5JeD",
        "outputId": "b8c75218-71da-47b1-b766-d822fb35fc40"
      },
      "source": [
        "x_train = x_train.reshape(x_train.shape[0],28,28,1)\n",
        "x_test = x_test.reshape(x_test.shape[0],28,28,1)\n",
        "print(\"Shape of x_train is\",x_train.shape)\n",
        "print(\"Shape of x_test is\",x_test.shape)"
      ],
      "execution_count": 13,
      "outputs": [
        {
          "output_type": "stream",
          "text": [
            "Shape of x_train is (60000, 28, 28, 1)\n",
            "Shape of x_test is (10000, 28, 28, 1)\n"
          ],
          "name": "stdout"
        }
      ]
    },
    {
      "cell_type": "code",
      "metadata": {
        "id": "8AnYTx_d6bwz"
      },
      "source": [
        "x_train = x_train.astype(\"float32\")\n",
        "x_test = x_test.astype(\"float32\")\n",
        "x_train /= 255\n",
        "x_test /= 255"
      ],
      "execution_count": 15,
      "outputs": []
    },
    {
      "cell_type": "markdown",
      "metadata": {
        "id": "dsgnQWHM7OrT"
      },
      "source": [
        "### **CREATING CONVOLUTIONAL NEURAL NETWORK MODEL** ###"
      ]
    },
    {
      "cell_type": "code",
      "metadata": {
        "id": "DBIaqQlP6s15"
      },
      "source": [
        "model = Sequential()\n",
        "model.add(Conv2D(28,kernel_size=(4,4)))\n",
        "model.add(MaxPooling2D(pool_size=(3,3)))\n",
        "model.add(Flatten())\n",
        "model.add(Dense(128,activation=\"relu\"))\n",
        "model.add(Dropout(0.2))\n",
        "model.add(Dense(28,activation=\"softmax\"))"
      ],
      "execution_count": 18,
      "outputs": []
    },
    {
      "cell_type": "markdown",
      "metadata": {
        "id": "-6NMAD-r9QGL"
      },
      "source": [
        "### **COMPILING & TRAINING THE MODEL** ###"
      ]
    },
    {
      "cell_type": "code",
      "metadata": {
        "colab": {
          "base_uri": "https://localhost:8080/"
        },
        "id": "rYdzIYiv83ma",
        "outputId": "2a08e97b-67a4-4e6c-d2ad-b90a6196f62f"
      },
      "source": [
        "model.compile(loss='sparse_categorical_crossentropy',optimizer='adam',metrics=['accuracy'])\n",
        "model.fit(x_train,y_train,epochs = 15)"
      ],
      "execution_count": 19,
      "outputs": [
        {
          "output_type": "stream",
          "text": [
            "Epoch 1/15\n",
            "1875/1875 [==============================] - 27s 14ms/step - loss: 0.2109 - accuracy: 0.9365\n",
            "Epoch 2/15\n",
            "1875/1875 [==============================] - 26s 14ms/step - loss: 0.0677 - accuracy: 0.9794\n",
            "Epoch 3/15\n",
            "1875/1875 [==============================] - 26s 14ms/step - loss: 0.0485 - accuracy: 0.9850\n",
            "Epoch 4/15\n",
            "1875/1875 [==============================] - 26s 14ms/step - loss: 0.0368 - accuracy: 0.9884\n",
            "Epoch 5/15\n",
            "1875/1875 [==============================] - 26s 14ms/step - loss: 0.0310 - accuracy: 0.9901\n",
            "Epoch 6/15\n",
            "1875/1875 [==============================] - 26s 14ms/step - loss: 0.0240 - accuracy: 0.9922\n",
            "Epoch 7/15\n",
            "1875/1875 [==============================] - 26s 14ms/step - loss: 0.0227 - accuracy: 0.9924\n",
            "Epoch 8/15\n",
            "1875/1875 [==============================] - 26s 14ms/step - loss: 0.0205 - accuracy: 0.9933\n",
            "Epoch 9/15\n",
            "1875/1875 [==============================] - 26s 14ms/step - loss: 0.0172 - accuracy: 0.9943\n",
            "Epoch 10/15\n",
            "1875/1875 [==============================] - 26s 14ms/step - loss: 0.0160 - accuracy: 0.9948\n",
            "Epoch 11/15\n",
            "1875/1875 [==============================] - 26s 14ms/step - loss: 0.0147 - accuracy: 0.9951\n",
            "Epoch 12/15\n",
            "1875/1875 [==============================] - 26s 14ms/step - loss: 0.0136 - accuracy: 0.9952\n",
            "Epoch 13/15\n",
            "1875/1875 [==============================] - 26s 14ms/step - loss: 0.0131 - accuracy: 0.9953\n",
            "Epoch 14/15\n",
            "1875/1875 [==============================] - 26s 14ms/step - loss: 0.0124 - accuracy: 0.9958\n",
            "Epoch 15/15\n",
            "1875/1875 [==============================] - 26s 14ms/step - loss: 0.0095 - accuracy: 0.9969\n"
          ],
          "name": "stdout"
        },
        {
          "output_type": "execute_result",
          "data": {
            "text/plain": [
              "<keras.callbacks.History at 0x7fa6b79fbdd0>"
            ]
          },
          "metadata": {},
          "execution_count": 19
        }
      ]
    },
    {
      "cell_type": "markdown",
      "metadata": {
        "id": "wE2_JA5vBBhD"
      },
      "source": [
        "### **PREDICTION** ###"
      ]
    },
    {
      "cell_type": "code",
      "metadata": {
        "id": "3My4z9VzBGRb"
      },
      "source": [
        "y_pred = model.predict(x_test)"
      ],
      "execution_count": 22,
      "outputs": []
    },
    {
      "cell_type": "code",
      "metadata": {
        "colab": {
          "base_uri": "https://localhost:8080/",
          "height": 302
        },
        "id": "PA6CsrZPBZtb",
        "outputId": "2fad7c60-f5dd-4e04-cd64-227a924cd8df"
      },
      "source": [
        "image_index = int(input())\n",
        "plt.imshow(x_test[image_index].reshape(28,28),cmap=\"gray\")\n",
        "print(\"Image Number:\",y_pred[image_index].argmax())"
      ],
      "execution_count": 31,
      "outputs": [
        {
          "output_type": "stream",
          "text": [
            "113\n",
            "Image Number: 9\n"
          ],
          "name": "stdout"
        },
        {
          "output_type": "display_data",
          "data": {
            "image/png": "[encoded data removed]",
            "text/plain": [
              "<Figure size 432x288 with 1 Axes>"
            ]
          },
          "metadata": {
            "needs_background": "light"
          }
        }
      ]
    },
    {
      "cell_type": "markdown",
      "metadata": {
        "id": "Xs-BixXsAkKc"
      },
      "source": [
        "### **EVALUATING MODEL** ###"
      ]
    },
    {
      "cell_type": "code",
      "metadata": {
        "colab": {
          "base_uri": "https://localhost:8080/"
        },
        "id": "qSAK2avU9nq-",
        "outputId": "9364868c-9216-437f-ec43-0a10c51ae6b0"
      },
      "source": [
        "accuracy = model.evaluate(x_test,y_test)\n",
        "print(\"Accuracy is:\",accuracy[1])"
      ],
      "execution_count": 20,
      "outputs": [
        {
          "output_type": "stream",
          "text": [
            "313/313 [==============================] - 2s 6ms/step - loss: 0.0505 - accuracy: 0.9874\n",
            "Accuracy is: 0.9873999953269958\n"
          ],
          "name": "stdout"
        }
      ]
    },
    {
      "cell_type": "markdown",
      "metadata": {
        "id": "1hzedK7eC1tE"
      },
      "source": [
        "## **THANK YOU** ##"
      ]
    }
  ]
}